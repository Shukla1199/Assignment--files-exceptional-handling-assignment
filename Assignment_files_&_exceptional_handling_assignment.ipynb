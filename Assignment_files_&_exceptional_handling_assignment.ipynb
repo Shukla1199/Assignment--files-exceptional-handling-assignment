{
  "nbformat": 4,
  "nbformat_minor": 0,
  "metadata": {
    "colab": {
      "provenance": []
    },
    "kernelspec": {
      "name": "python3",
      "display_name": "Python 3"
    },
    "language_info": {
      "name": "python"
    }
  },
  "cells": [
    {
      "cell_type": "markdown",
      "source": [
        "#Questions & Answers[THEORY]"
      ],
      "metadata": {
        "id": "dD23LBMsAxa-"
      }
    },
    {
      "cell_type": "markdown",
      "source": [
        "**Q1-What is the difference between interpreted and compiled languages?**\n",
        "\n",
        ">**Compiled Languages**:\n",
        "- **Process**: Code is fully translated into machine code by a compiler before execution, creating an executable file.\n",
        "- **Execution**: Runs directly on hardware, typically faster due to pre-translation.\n",
        "- **Examples**: C, C++, Rust.\n",
        "- **Pros**: Faster runtime, optimized code, no interpreter needed during execution.\n",
        "- **Cons**: Compilation can be slow, less flexible for quick changes, platform-specific output.\n",
        "\n",
        "**Interpreted Languages**:\n",
        "- **Process**: Code is executed line-by-line by an interpreter at runtime, no prior machine code conversion.\n",
        "- **Execution**: Slower due to real-time translation, but easier to debug and modify.\n",
        "- **Examples**: Python, JavaScript, Ruby.\n",
        "- **Pros**: Platform-independent, flexible for rapid development and testing.\n",
        "- **Cons**: Slower execution, requires an interpreter at runtime.\n",
        "\n",
        "**Hybrid Approach**: Some languages (e.g., Java) use a mix, compiling to intermediate bytecode, then interpreting or JIT-compiling at runtime."
      ],
      "metadata": {
        "id": "cCgXtjihAxtG"
      }
    },
    {
      "cell_type": "markdown",
      "source": [
        "**Q2-What is exception handling in Python?**\n",
        "\n",
        ">Exception handling in Python is a mechanism to manage runtime errors (exceptions) gracefully, preventing program crashes. It uses try, except, else, and finally blocks to catch and handle errors.\n"
      ],
      "metadata": {
        "id": "0JOeGe8sAxxD"
      }
    },
    {
      "cell_type": "markdown",
      "source": [
        "**Q3-What is the purpose of the finally block in exception handling?**\n",
        "\n",
        "> The finally block in Python's exception handling ensures that a block of code executes regardless of whether an exception occurs or not. Its primary purpose is to perform cleanup or finalization tasks, such as releasing resources (e.g., closing files or network connections), even if an error is raised or the program exits the try/except block.\n",
        "\n"
      ],
      "metadata": {
        "id": "yUjqicZEAx0g"
      }
    },
    {
      "cell_type": "markdown",
      "source": [
        "**Q4- What is logging in Python?**\n",
        "\n",
        "> Logging in Python is a mechanism to record events, messages, or errors that occur during a program's execution, providing a way to track behavior, debug issues, or monitor performance. Python's built-in logging module offers a flexible and configurable system for generating log messages, which can be sent to various outputs (e.g., console, files, or external services)."
      ],
      "metadata": {
        "id": "japK6fpqAx4H"
      }
    },
    {
      "cell_type": "markdown",
      "source": [
        "**Q5-What is the significance of the __del__ method in Python?**\n",
        "\n",
        "> The __del__ method in Python is a special method (also called a \"magic\" or \"dunder\" method) that serves as a destructor for a class. It is called automatically when an object is about to be destroyed by Python's garbage collector, typically when the object’s reference count drops to zero and it is no longer needed. The __del__ method is significant for defining custom cleanup behavior when an object is destroyed, but its non-deterministic nature and limitations make it less reliable than explicit resource management techniques. Use it judiciously for tasks like logging or non-critical cleanup.\n"
      ],
      "metadata": {
        "id": "QcwChVK7Ax7R"
      }
    },
    {
      "cell_type": "markdown",
      "source": [
        "**Q6-What is the difference between import and from ... import in Python**?\n",
        "\n",
        ">In Python, both `import` and `from ... import` are used to bring modules, functions, classes, or specific objects into a program's namespace, but they differ in their syntax and usage. Here's a clear explanation of their differences:\n",
        "\n",
        "### 1. **`import` Statement**\n",
        "- **Purpose**: Imports an entire module or specific objects into the current namespace.\n",
        "- **Syntax**: `import module_name` or `import module_name as alias`\n",
        "- **Effect**: Makes the entire module (or its contents) available for use by referencing the module name.\n",
        "- **Scope**: The imported module is accessed using its name (or alias) directly in the current scope.\n",
        "\n",
        "\n",
        "### 2. **`from ... import` Statement**\n",
        "- **Purpose**: Imports specific objects (e.g., functions, classes, variables) from a module directly into the current namespace, allowing you to use them without prefixing the module name.\n",
        "- **Syntax**: `from module_name import object_name` or `from module_name import object_name as alias`\n",
        "- **Effect**: The specified objects are available directly in the current scope, without needing to reference the module name.\n",
        "- **Scope**: The imported objects become part of the local namespace, which can make code more concise but risks name conflicts.\n",
        "\n",
        "| **Scope of Import**      | Imports the entire module into the namespace. | Imports specific objects from the module.   |\n",
        "| **Access**               | Requires module name prefix (e.g., `math.sqrt`). | Objects are directly accessible (e.g., `sqrt`). |\n",
        "| **Namespace Clutter**    | Keeps namespace cleaner by requiring module prefix. | Can clutter namespace if many objects are imported. |\n",
        "| **Risk of Name Conflicts** | Lower, as module name acts as a namespace.   | Higher, as objects are in the local namespace. |\n",
        "| **Use Case**             | Preferred for accessing many module features or avoiding conflicts. | Preferred for convenience or frequently used objects. |\n",
        "\n"
      ],
      "metadata": {
        "id": "vdJBfNy1Ax_C"
      }
    },
    {
      "cell_type": "markdown",
      "source": [
        "**Q7-How can you handle multiple exceptions in Python?**\n",
        "\n",
        ">In Python, you can handle multiple exceptions in a try-except block by using multiple except clauses, grouping exceptions in a tuple, or catching a base exception class. This allows you to manage different types of errors that might occur during execution."
      ],
      "metadata": {
        "id": "EcvxsSkEAyCp"
      }
    },
    {
      "cell_type": "markdown",
      "source": [
        "**Q8-What is the purpose of the with statement when handling files in Python?**\n",
        "\n",
        "> The with statement in Python is used for resource management, particularly when handling files, to ensure that resources (like file handles) are properly acquired and released, even if an error occurs. It simplifies exception handling and cleanup, making code safer, more concise, and more readable compared to manual resource management. When used with files, the with statement ensures that files are automatically closed after operations are complete, leveraging Python’s context manager protocol."
      ],
      "metadata": {
        "id": "0NOfRf2gAyFW"
      }
    },
    {
      "cell_type": "markdown",
      "source": [
        "**Q9-What is the difference between multithreading and multiprocessing?**\n",
        "\n",
        "> Multithreading and multiprocessing are two approaches to achieving concurrency in Python, allowing multiple tasks to run simultaneously. They differ in how they utilize system resources, their implementation, and their suitability for different types of tasks."
      ],
      "metadata": {
        "id": "Lztx0YmgAyIC"
      }
    },
    {
      "cell_type": "markdown",
      "source": [
        "**Q10- What are the advantages of using logging in a program?**\n",
        "\n",
        "> Using the logging module in Python (as discussed in your previous query about logging) offers significant advantages over alternatives like print statements for tracking program behavior, debugging, and monitoring."
      ],
      "metadata": {
        "id": "xHOYBUmoGnY-"
      }
    },
    {
      "cell_type": "markdown",
      "source": [
        "**Q11-What is memory management in Python?**\n",
        "\n",
        "> Memory management in Python is the process by which the Python interpreter allocates, manages, and deallocates memory for objects during program execution. Python handles memory management automatically, primarily through reference counting and a garbage collector, ensuring efficient use of memory without requiring manual intervention from the programmer. This process is critical for optimizing performance and preventing memory leaks, especially in contexts like exception handling, file operations, multithreading, multiprocessing, and logging (as discussed in your previous queries)."
      ],
      "metadata": {
        "id": "A2EL3a9cGnbv"
      }
    },
    {
      "cell_type": "markdown",
      "source": [
        "**Q12-What are the basic steps involved in exception handling in Python?**\n",
        "\n",
        "> Exception handling in Python is a mechanism to manage runtime errors gracefully, preventing program crashes and allowing controlled responses to issues. It uses the try, except, else, and finally blocks, which you’ve explored in prior queries (e.g., exception handling, logging, with statement, __del__, and multithreading/multiprocessing)."
      ],
      "metadata": {
        "id": "2oi0fzwdGned"
      }
    },
    {
      "cell_type": "markdown",
      "source": [
        "**Q13-Why is memory management important in Python?**\n",
        "\n",
        "> Memory management in Python is critical for ensuring efficient, reliable, and scalable program execution. As Python handles memory automatically through reference counting and garbage collection (as discussed in your query on memory management), understanding its importance helps developers write robust code, especially in contexts like exception handling, file operations with with, logging, multithreading, multiprocessing, and the __del__ method (from your previous queries)."
      ],
      "metadata": {
        "id": "5nhBM1EoGngm"
      }
    },
    {
      "cell_type": "markdown",
      "source": [
        "**Q14-What is the role of try and except in exception handling?**\n",
        "\n",
        "> The try and except blocks are core components of Python’s exception handling mechanism, used to manage runtime errors and prevent program crashes. They allow developers to anticipate and handle potential errors gracefully, ensuring robust and reliable code. Given your previous queries (e.g., exception handling, logging, with statement, __del__, multithreading/multiprocessing, and memory management), I’ll explain the roles of try and except concisely, with examples that integrate logging and file handling for context."
      ],
      "metadata": {
        "id": "f1ZsopRdGnjy"
      }
    },
    {
      "cell_type": "markdown",
      "source": [
        "**Q15-How does Python's garbage collection system work?**\n",
        "\n",
        "> Python’s garbage collection (GC) system is a mechanism for automatically reclaiming memory from objects that are no longer in use, complementing its primary memory management technique of reference counting. It primarily addresses cyclic references, which reference counting alone cannot handle, ensuring efficient memory usage. Given your prior queries (e.g., memory management, exception handling, logging, with statement, __del__, multithreading, and multiprocessing), I’ll explain how Python’s garbage collection works concisely, with examples that integrate logging and connect to your interests in exception handling, file handling, and concurrency."
      ],
      "metadata": {
        "id": "34mrYrRBGnmH"
      }
    },
    {
      "cell_type": "markdown",
      "source": [
        "**Q16- What is the purpose of the else block in exception handling?**\n",
        "\n",
        ">The else block in Python’s exception handling is an optional component of the try-except structure that executes only if no exception is raised in the try block. It provides a way to separate code that should run on successful execution from error-handling logic, improving code clarity and maintainability. Given your prior queries (e.g., exception handling, logging, with statement, __del__, multithreading/multiprocessing, memory management, and garbage collection), I’ll explain the purpose of the else block concisely, with examples that integrate logging and file handling for context."
      ],
      "metadata": {
        "id": "SKz2BCChGnoT"
      }
    },
    {
      "cell_type": "markdown",
      "source": [
        "**Q17-What are the common logging levels in Python?**\n",
        "\n",
        ">In Python, the logging module (as discussed in your previous query on logging) provides a set of predefined logging levels to categorize the severity of log messages. These levels help developers filter and prioritize messages based on their importance, making it easier to debug, monitor, or analyze program behavior. Below is a concise explanation of the common logging levels in Python, with examples that integrate concepts from your prior queries (e.g., exception handling, with statement, __del__, multithreading/multiprocessing, and memory management) for context."
      ],
      "metadata": {
        "id": "ALNyIBrIGnq2"
      }
    },
    {
      "cell_type": "markdown",
      "source": [
        "**Q18-What is the difference between os.fork() and multiprocessing in Python?**\n",
        "\n",
        "> In Python, both os.fork() and the multiprocessing module are used to create concurrent processes, but they differ significantly in their approach, functionality, and use cases. Given your prior queries (e.g., memory management, garbage collection, exception handling, logging, with statement, __del__, multithreading, and logging levels), I’ll explain the differences concisely, integrating logging and exception handling for context where relevant. Since os.fork() is specific to Unix-like systems, I’ll focus on its behavior in that context, noting platform limitations."
      ],
      "metadata": {
        "id": "_V7hEld0Gntj"
      }
    },
    {
      "cell_type": "markdown",
      "source": [
        "**Q19-What is the importance of closing a file in Python?**\n",
        "\n",
        ">Closing a file in Python is a critical aspect of file handling that ensures proper resource management, data integrity, and system stability. Failing to close files can lead to memory leaks, data corruption, or resource exhaustion, especially in long-running or concurrent programs. Given your prior queries (e.g., memory management, garbage collection, exception handling, logging, with statement, __del__, multithreading, multiprocessing, and logging levels), I’ll explain the importance of closing a file concisely, with examples that integrate logging, exception handling, and the with statement for context."
      ],
      "metadata": {
        "id": "9j0cPQonGnwW"
      }
    },
    {
      "cell_type": "markdown",
      "source": [
        "**Q20-What is the difference between file.read() and file.readline() in Python?**\n",
        "\n",
        ">The difference between `file.read()` and `file.readline()` in Python comes down to **how much of the file they read** and **what they return**:\n",
        "\n",
        "---\n",
        "\n",
        "### **1. `file.read()`**\n",
        "\n",
        "* **Reads**: The **entire file** (or a specified number of characters/bytes).\n",
        "* **Return type**: A **single string** containing all the content read.\n",
        "* **Pointer movement**: Moves the file pointer to the end of what it read.\n",
        "* **Use case**: When you want to grab **all contents at once** (or a big chunk).\n",
        "\n",
        "**Example:**\n",
        "\n",
        "```python\n",
        "with open(\"example.txt\", \"r\") as f:\n",
        "    content = f.read()      # Reads entire file\n",
        "    print(content)\n",
        "```\n",
        "\n",
        "If you pass a number:\n",
        "\n",
        "```python\n",
        "f.read(10)  # Reads only first 10 characters\n",
        "```\n",
        "\n",
        "---\n",
        "\n",
        "### **2. `file.readline()`**\n",
        "\n",
        "* **Reads**: **Only one line** from the file (up to the newline `\\n` character).\n",
        "* **Return type**: A **string** containing that line (including the `\\n` at the end, unless it’s the last line without newline).\n",
        "* **Pointer movement**: Moves the file pointer to the start of the next line.\n",
        "* **Use case**: When you want to process a file **line by line**.\n",
        "\n",
        "**Example:**\n",
        "\n",
        "```python\n",
        "with open(\"example.txt\", \"r\") as f:\n",
        "    line1 = f.readline()    # Reads the first line\n",
        "    line2 = f.readline()    # Reads the second line\n",
        "    print(line1, line2)\n",
        "```\n",
        "\n",
        "---\n",
        "\n",
        "### **Key Differences Table**\n",
        "\n",
        "| Feature          | `file.read()`                                | `file.readline()`       |\n",
        "| ---------------- | -------------------------------------------- | ----------------------- |\n",
        "| Reads            | Whole file or specified number of characters | Only one line           |\n",
        "| Returns          | Entire content as one string                 | A single line as string |\n",
        "| Pointer movement | Jumps to end of content read                 | Moves to next line      |\n",
        "| Best for         | Reading everything or chunks                 | Reading line-by-line    |\n",
        "\n",
        "---"
      ],
      "metadata": {
        "id": "-ztW7OsZGnz-"
      }
    },
    {
      "cell_type": "markdown",
      "source": [
        "**Q21-What is the logging module in Python used for?**\n",
        "\n",
        ">The logging module in Python is used for recording (or “logging”) messages from your program so you can track what it’s doing, debug problems, and keep a history of important events.\n",
        "\n",
        "Instead of scattering print() statements around your code (which is messy and hard to control), logging gives you a flexible, centralized way to:\n",
        "\n",
        "1>Report errors without stopping the program\n",
        "\n",
        "2>Track program execution step-by-step\n",
        "\n",
        "3>Write logs to files, the console, or even over the network\n",
        "\n",
        "4>Control the level of detail (e.g., debug info vs. only critical errors)"
      ],
      "metadata": {
        "id": "o_KeTgMIAyLe"
      }
    },
    {
      "cell_type": "markdown",
      "source": [
        "**Q22-What is the os module in Python used for in file handling?**\n",
        "\n",
        "> In Python, the os module is used to interact with the operating system, and in file handling, it provides functions to create, delete, move, rename, and get information about files and directories."
      ],
      "metadata": {
        "id": "NrXkReraJmUV"
      }
    },
    {
      "cell_type": "markdown",
      "source": [
        "**Q23-What are the challenges associated with memory management in Python?**\n",
        "\n",
        ">Memory management in Python is generally automatic (thanks to its built-in garbage collector), but there are still challenges developers face, especially when working with large data or performance-critical applications."
      ],
      "metadata": {
        "id": "VLhEo0mrJmXZ"
      }
    },
    {
      "cell_type": "markdown",
      "source": [
        "**Q24-How do you raise an exception manually in Python?**\n",
        "\n",
        "> In Python, you can **raise an exception manually** using the `raise` statement, followed by an **exception class** (or an instance of it).\n",
        "\n",
        "---\n",
        "\n",
        "### **Basic Syntax**\n",
        "\n",
        "```python\n",
        "raise ExceptionType(\"Error message\")\n",
        "```\n",
        "\n",
        "* `ExceptionType` → The type of exception you want to raise (e.g., `ValueError`, `TypeError`, `RuntimeError`).\n",
        "* `\"Error message\"` → An optional custom message describing the error.\n",
        "\n",
        "---\n",
        "\n",
        "### **Example 1: Raising a Built-in Exception**\n",
        "\n",
        "```python\n",
        "age = -5\n",
        "if age < 0:\n",
        "    raise ValueError(\"Age cannot be negative\")\n",
        "```\n",
        "\n",
        "Output:\n",
        "\n",
        "```\n",
        "ValueError: Age cannot be negative\n",
        "```\n",
        "\n",
        "---\n",
        "\n",
        "### **Example 2: Raising a Custom Exception**\n",
        "\n",
        "```python\n",
        "class MyCustomError(Exception):\n",
        "    pass\n",
        "\n",
        "raise MyCustomError(\"Something custom went wrong!\")\n",
        "```\n",
        "\n",
        "Output:\n",
        "\n",
        "```\n",
        "__main__.MyCustomError: Something custom went wrong!\n",
        "```\n",
        "\n",
        "---\n",
        "\n",
        "### **Example 3: Raising Without an Exception Object**\n",
        "\n",
        "If you raise without arguments **inside an `except` block**, it re-raises the current exception:\n",
        "\n",
        "```python\n",
        "try:\n",
        "    x = 1 / 0\n",
        "except ZeroDivisionError:\n",
        "    print(\"Error occurred, re-raising...\")\n",
        "    raise\n",
        "```\n",
        "\n",
        "---\n",
        "\n",
        "✅ **Key Notes**\n",
        "\n",
        "* Always raise exceptions that inherit from Python’s built-in `Exception` class.\n",
        "* Avoid using bare `raise Exception` for control flow; it’s meant for **error handling**, not normal program logic.\n",
        "* Use meaningful exception types so they’re easier to handle in `try-except`."
      ],
      "metadata": {
        "id": "XzUZzdTuJmaJ"
      }
    },
    {
      "cell_type": "markdown",
      "source": [
        "**Q25-Why is it important to use multithreading in certain applications?**\n",
        "\n",
        ">ChatGPT said:\n",
        "Using multithreading in certain applications is important because it can make programs more responsive, efficient, and capable of handling multiple tasks at the same time — especially when those tasks involve I/O-bound operations."
      ],
      "metadata": {
        "id": "l2zXC6J8JmdV"
      }
    },
    {
      "cell_type": "markdown",
      "source": [
        "#Questions & Answers[Practicals]"
      ],
      "metadata": {
        "id": "nBQWgkuoJmgw"
      }
    },
    {
      "cell_type": "markdown",
      "source": [
        "**Q1- How can you open a file for writing in Python and write a string to it?**"
      ],
      "metadata": {
        "id": "7q4KD9lBJmjs"
      }
    },
    {
      "cell_type": "code",
      "source": [
        "# Open a file for writing and write a string\n",
        "with open(\"example.txt\", \"w\") as f:\n",
        "    f.write(\"Hello, Python file handling!\")\n"
      ],
      "metadata": {
        "id": "iQI-Xxx9Ltqr"
      },
      "execution_count": 1,
      "outputs": []
    },
    {
      "cell_type": "markdown",
      "source": [
        "**Q2-Write a Python program to read the contents of a file and print each line.**"
      ],
      "metadata": {
        "id": "5cBhQOjwLYrU"
      }
    },
    {
      "cell_type": "code",
      "source": [
        "# Open the file in read mode\n",
        "with open(\"example.txt\", \"r\") as file:\n",
        "    # Iterate over each line in the file\n",
        "    for line in file:\n",
        "        print(line.strip())  # strip() removes newline characters\n"
      ],
      "metadata": {
        "colab": {
          "base_uri": "https://localhost:8080/"
        },
        "id": "kOuZc0jxL-hV",
        "outputId": "d9b34e2b-c087-4a42-a650-3c19f8c6335c"
      },
      "execution_count": 2,
      "outputs": [
        {
          "output_type": "stream",
          "name": "stdout",
          "text": [
            "Hello, Python file handling!\n"
          ]
        }
      ]
    },
    {
      "cell_type": "markdown",
      "source": [
        "**Q3-How would you handle a case where the file doesn't exist while trying to open it for reading?**"
      ],
      "metadata": {
        "id": "KcTlz0YuJmm7"
      }
    },
    {
      "cell_type": "code",
      "source": [
        "try:\n",
        "    with open(\"example.txt\", \"r\") as file:\n",
        "        for line in file:\n",
        "            print(line.strip())\n",
        "except FileNotFoundError:\n",
        "    print(\"Error: The file does not exist.\")"
      ],
      "metadata": {
        "colab": {
          "base_uri": "https://localhost:8080/"
        },
        "id": "zr_hdOi8MI2V",
        "outputId": "802b7303-cd97-48ea-ac61-4ba978f7d1d4"
      },
      "execution_count": 3,
      "outputs": [
        {
          "output_type": "stream",
          "name": "stdout",
          "text": [
            "Hello, Python file handling!\n"
          ]
        }
      ]
    },
    {
      "cell_type": "markdown",
      "source": [
        "**Q4-Write a Python script that reads from one file and writes its content to another file?**"
      ],
      "metadata": {
        "id": "5VIuJLHfMQ8o"
      }
    },
    {
      "cell_type": "code",
      "source": [
        "# Read from one file and write to another\n",
        "try:\n",
        "    with open(\"source.txt\", \"r\") as src:\n",
        "        with open(\"destination.txt\", \"w\") as dest:\n",
        "            for line in src:\n",
        "                dest.write(line)\n",
        "    print(\"File copied successfully!\")\n",
        "except FileNotFoundError:\n",
        "    print(\"Error: Source file not found.\")\n",
        "except Exception as e:\n",
        "    print(f\"An error occurred: {e}\")"
      ],
      "metadata": {
        "colab": {
          "base_uri": "https://localhost:8080/"
        },
        "id": "buNQiyp0MLYa",
        "outputId": "4d9ca331-5990-4268-ebc6-2a7954043fd4"
      },
      "execution_count": 4,
      "outputs": [
        {
          "metadata": {
            "tags": null
          },
          "name": "stdout",
          "output_type": "stream",
          "text": [
            "Error: Source file not found.\n"
          ]
        }
      ]
    },
    {
      "cell_type": "markdown",
      "source": [
        "**Q5-How would you catch and handle division by zero error in Python.**"
      ],
      "metadata": {
        "id": "cM5pl1mEMWOP"
      }
    },
    {
      "cell_type": "code",
      "source": [
        "try:\n",
        "    num1 = 10\n",
        "    num2 = 0\n",
        "    result = num1 / num2\n",
        "    print(\"Result:\", result)\n",
        "except ZeroDivisionError:\n",
        "    print(\"Error: Cannot divide by zero.\")\n"
      ],
      "metadata": {
        "colab": {
          "base_uri": "https://localhost:8080/"
        },
        "id": "R5yLua62MUKx",
        "outputId": "15a64594-aa7c-437f-afac-5460f2c613bf"
      },
      "execution_count": 5,
      "outputs": [
        {
          "output_type": "stream",
          "name": "stdout",
          "text": [
            "Error: Cannot divide by zero.\n"
          ]
        }
      ]
    },
    {
      "cell_type": "markdown",
      "source": [
        "**Q6-Write a Python program that logs an error message to a log file when a division by zero exception occurs.**"
      ],
      "metadata": {
        "id": "B2chidxrMgSm"
      }
    },
    {
      "cell_type": "code",
      "source": [
        "import logging\n",
        "\n",
        "# Configure logging\n",
        "logging.basicConfig(\n",
        "    filename='error.log',         # Log file name\n",
        "    level=logging.ERROR,          # Log only ERROR and above\n",
        "    format='%(asctime)s - %(levelname)s - %(message)s'\n",
        ")\n",
        "\n",
        "try:\n",
        "    a = 10\n",
        "    b = 0\n",
        "    result = a / b\n",
        "except ZeroDivisionError:\n",
        "    logging.error(\"Division by zero attempted.\")\n",
        "    print(\"An error occurred. Check error.log for details.\")\n"
      ],
      "metadata": {
        "colab": {
          "base_uri": "https://localhost:8080/"
        },
        "id": "M53Ue1I5Mg3s",
        "outputId": "01430207-2564-45e1-da8b-ff55ec71f42e"
      },
      "execution_count": 6,
      "outputs": [
        {
          "output_type": "stream",
          "name": "stderr",
          "text": [
            "ERROR:root:Division by zero attempted.\n"
          ]
        },
        {
          "output_type": "stream",
          "name": "stdout",
          "text": [
            "An error occurred. Check error.log for details.\n"
          ]
        }
      ]
    },
    {
      "cell_type": "markdown",
      "source": [
        "\n",
        "**Q7-How do you log information at different levels (INFO, ERROR, WARNING) in Python using the logging module.**"
      ],
      "metadata": {
        "id": "CcQTSuWIMha9"
      }
    },
    {
      "cell_type": "code",
      "source": [
        "import logging\n",
        "\n",
        "# Configure logging\n",
        "logging.basicConfig(\n",
        "    filename='app.log',              # Log file\n",
        "    level=logging.DEBUG,              # Capture all levels from DEBUG upwards\n",
        "    format='%(asctime)s - %(levelname)s - %(message)s'\n",
        ")\n",
        "\n",
        "# Log messages at different levels\n",
        "logging.debug(\"This is a debug message (for troubleshooting).\")\n",
        "logging.info(\"Application started successfully.\")\n",
        "logging.warning(\"Low disk space warning.\")\n",
        "logging.error(\"Failed to open file.\")\n",
        "logging.critical(\"System is down!\")\n"
      ],
      "metadata": {
        "colab": {
          "base_uri": "https://localhost:8080/"
        },
        "id": "uSp29X8hMh7j",
        "outputId": "a0bbddcd-2ce5-4b9f-d2ef-e67ccce624f1"
      },
      "execution_count": 7,
      "outputs": [
        {
          "output_type": "stream",
          "name": "stderr",
          "text": [
            "WARNING:root:Low disk space warning.\n",
            "ERROR:root:Failed to open file.\n",
            "CRITICAL:root:System is down!\n"
          ]
        }
      ]
    },
    {
      "cell_type": "markdown",
      "source": [
        "**Q8-Write a program to handle a file opening error using exception handling.**"
      ],
      "metadata": {
        "id": "Iu2YI_VOM7de"
      }
    },
    {
      "cell_type": "code",
      "source": [
        "try:\n",
        "    # Attempt to open a file for reading\n",
        "    with open(\"data.txt\", \"r\") as file:\n",
        "        contents = file.read()\n",
        "        print(contents)\n",
        "except FileNotFoundError:\n",
        "    print(\"Error: The file 'data.txt' does not exist.\")\n",
        "except PermissionError:\n",
        "    print(\"Error: You do not have permission to read this file.\")\n",
        "except Exception as e:\n",
        "    print(f\"An unexpected error occurred: {e}\")\n"
      ],
      "metadata": {
        "colab": {
          "base_uri": "https://localhost:8080/"
        },
        "id": "6OqV2d4AM2ve",
        "outputId": "f4d52dee-f9a4-433d-e516-a3e2d34b3246"
      },
      "execution_count": 8,
      "outputs": [
        {
          "output_type": "stream",
          "name": "stdout",
          "text": [
            "Error: The file 'data.txt' does not exist.\n"
          ]
        }
      ]
    },
    {
      "cell_type": "markdown",
      "source": [
        "**Q9-How can you read a file line by line and store its content in a list in Python.**"
      ],
      "metadata": {
        "id": "cq_wPvl3M8Tz"
      }
    },
    {
      "cell_type": "code",
      "source": [
        "with open(\"example.txt\", \"r\") as file:\n",
        "    lines = file.readlines()\n",
        "\n",
        "print(lines)  # Each element is a line (with newline characters)\n"
      ],
      "metadata": {
        "colab": {
          "base_uri": "https://localhost:8080/"
        },
        "id": "Jdo6Fmw8M8xI",
        "outputId": "8635eb8d-0a74-406a-9fe3-0d7f5b9eabc3"
      },
      "execution_count": 9,
      "outputs": [
        {
          "output_type": "stream",
          "name": "stdout",
          "text": [
            "['Hello, Python file handling!']\n"
          ]
        }
      ]
    },
    {
      "cell_type": "markdown",
      "source": [
        "**Q10-How can you append data to an existing file in Python.**"
      ],
      "metadata": {
        "id": "imYQJwmLM9JW"
      }
    },
    {
      "cell_type": "code",
      "source": [
        "# Open file in append mode\n",
        "with open(\"example.txt\", \"a\") as file:\n",
        "    file.write(\"This is a new line.\\n\")\n"
      ],
      "metadata": {
        "id": "N-Atfsj8M9q_"
      },
      "execution_count": 11,
      "outputs": []
    },
    {
      "cell_type": "markdown",
      "source": [
        "**Q11-Write a Python program that uses a try-except block to handle an error when attempting to access a\n",
        "dictionary key that doesn't exist.**"
      ],
      "metadata": {
        "id": "nf9G4e9WM-FS"
      }
    },
    {
      "cell_type": "code",
      "source": [
        "# Append text to a file\n",
        "with open(\"example.txt\", \"a\") as file:\n",
        "    file.write(\"This is a new appended line.\\n\")\n"
      ],
      "metadata": {
        "id": "nKOm5JDeM-dR"
      },
      "execution_count": 12,
      "outputs": []
    },
    {
      "cell_type": "code",
      "source": [
        "my_dict = {\"name\": \"Alice\", \"age\": 25}\n",
        "\n",
        "try:\n",
        "    # Trying to access a key that might not exist\n",
        "    value = my_dict[\"city\"]\n",
        "    print(\"City:\", value)\n",
        "except KeyError:\n",
        "    print(\"Error: The specified key does not exist in the dictionary.\")\n"
      ],
      "metadata": {
        "colab": {
          "base_uri": "https://localhost:8080/"
        },
        "id": "2C1xHsfHN0mj",
        "outputId": "d998d0bc-f418-40e7-e875-6ebc3ced05be"
      },
      "execution_count": 13,
      "outputs": [
        {
          "output_type": "stream",
          "name": "stdout",
          "text": [
            "Error: The specified key does not exist in the dictionary.\n"
          ]
        }
      ]
    },
    {
      "cell_type": "markdown",
      "source": [
        "**Q12-Write a program that demonstrates using multiple except blocks to handle different types of exceptions.**"
      ],
      "metadata": {
        "id": "d_43GOtUM-zp"
      }
    },
    {
      "cell_type": "code",
      "source": [
        "try:\n",
        "    # Example: Asking for user input and performing division\n",
        "    num1 = int(input(\"Enter numerator: \"))\n",
        "    num2 = int(input(\"Enter denominator: \"))\n",
        "    result = num1 / num2\n",
        "    print(\"Result:\", result)\n",
        "\n",
        "    # Example: Accessing a dictionary key\n",
        "    my_dict = {\"name\": \"Alice\", \"age\": 25}\n",
        "    print(\"City:\", my_dict[\"city\"])\n",
        "\n",
        "except ValueError:\n",
        "    print(\"Error: Please enter valid integers.\")\n",
        "\n",
        "except ZeroDivisionError:\n",
        "    print(\"Error: Division by zero is not allowed.\")\n",
        "\n",
        "except KeyError:\n",
        "    print(\"Error: The specified key does not exist in the dictionary.\")\n",
        "\n",
        "except Exception as e:\n",
        "    print(f\"An unexpected error occurred: {e}\")\n"
      ],
      "metadata": {
        "id": "qNROwt86M_M6"
      },
      "execution_count": null,
      "outputs": []
    },
    {
      "cell_type": "markdown",
      "source": [
        "**Q13-How would you check if a file exists before attempting to read it in Python.**"
      ],
      "metadata": {
        "id": "fqsCkPn2M_nZ"
      }
    },
    {
      "cell_type": "code",
      "source": [
        "import os\n",
        "\n",
        "file_path = \"example.txt\"\n",
        "\n",
        "if os.path.exists(file_path):\n",
        "    with open(file_path, \"r\") as file:\n",
        "        print(file.read())\n",
        "else:\n",
        "    print(\"Error: File does not exist.\")\n"
      ],
      "metadata": {
        "id": "o93_bZkgOPuD"
      },
      "execution_count": null,
      "outputs": []
    },
    {
      "cell_type": "code",
      "source": [
        "from pathlib import Path\n",
        "\n",
        "file_path = Path(\"example.txt\")\n",
        "\n",
        "if file_path.exists():\n",
        "    with open(file_path, \"r\") as file:\n",
        "        print(file.read())\n",
        "else:\n",
        "    print(\"Error: File does not exist.\")\n"
      ],
      "metadata": {
        "id": "529trCbFOTIu"
      },
      "execution_count": null,
      "outputs": []
    },
    {
      "cell_type": "markdown",
      "source": [
        "**Q14-Write a program that uses the logging module to log both informational and error messages.**"
      ],
      "metadata": {
        "id": "326-9W5LOcBs"
      }
    },
    {
      "cell_type": "code",
      "source": [
        "import logging\n",
        "\n",
        "# Configure logging\n",
        "logging.basicConfig(\n",
        "    filename=\"app.log\",                # Log file name\n",
        "    level=logging.INFO,                 # Minimum logging level\n",
        "    format=\"%(asctime)s - %(levelname)s - %(message)s\"\n",
        ")\n",
        "\n",
        "# Log an informational message\n",
        "logging.info(\"Program started successfully.\")\n",
        "\n",
        "try:\n",
        "    num1 = int(input(\"Enter numerator: \"))\n",
        "    num2 = int(input(\"Enter denominator: \"))\n",
        "    result = num1 / num2\n",
        "    logging.info(f\"Division successful. Result = {result}\")\n",
        "\n",
        "except ZeroDivisionError:\n",
        "    logging.error(\"Attempted division by zero.\")\n",
        "\n",
        "except ValueError:\n",
        "    logging.error(\"Invalid input. Expected an integer.\")\n",
        "\n",
        "logging.info(\"Program finished.\")\n"
      ],
      "metadata": {
        "id": "mLEa4xf7OckQ"
      },
      "execution_count": null,
      "outputs": []
    },
    {
      "cell_type": "markdown",
      "source": [
        "**Q15-Write a Python program that prints the content of a file and handles the case when the file is empty.**"
      ],
      "metadata": {
        "id": "5QAL783mOc7r"
      }
    },
    {
      "cell_type": "code",
      "source": [
        "from pathlib import Path\n",
        "\n",
        "file_path = Path(\"example.txt\")\n",
        "\n",
        "try:\n",
        "    if not file_path.exists():\n",
        "        print(\"Error: File does not exist.\")\n",
        "    else:\n",
        "        with open(file_path, \"r\") as file:\n",
        "            content = file.read()\n",
        "\n",
        "            if not content.strip():  # Check if file is empty or only contains whitespace\n",
        "                print(\"The file is empty.\")\n",
        "            else:\n",
        "                print(\"File contents:\\n\")\n",
        "                print(content)\n",
        "\n",
        "except Exception as e:\n",
        "    print(f\"An error occurred: {e}\")\n"
      ],
      "metadata": {
        "id": "A3WjW3uwOdat"
      },
      "execution_count": null,
      "outputs": []
    },
    {
      "cell_type": "markdown",
      "source": [
        "**Q16-Demonstrate how to use memory profiling to check the memory usage of a small program.**"
      ],
      "metadata": {
        "id": "aE7HSdWfOd7_"
      }
    },
    {
      "cell_type": "code",
      "source": [
        "from memory_profiler import profile\n",
        "\n",
        "@profile\n",
        "def create_large_list():\n",
        "    # Create a large list to demonstrate memory usage\n",
        "    large_list = [i ** 2 for i in range(100000)]\n",
        "    print(\"List created with\", len(large_list), \"elements.\")\n",
        "    return large_list\n",
        "\n",
        "if __name__ == \"__main__\":\n",
        "    create_large_list()\n"
      ],
      "metadata": {
        "id": "Hz29PXTjOZVM"
      },
      "execution_count": null,
      "outputs": []
    },
    {
      "cell_type": "markdown",
      "source": [
        "**Q17-Write a Python program to create and write a list of numbers to a file, one number per line.**"
      ],
      "metadata": {
        "id": "ZpOloM20OzTe"
      }
    },
    {
      "cell_type": "code",
      "source": [
        "# List of numbers\n",
        "numbers = [10, 20, 30, 40, 50]\n",
        "\n",
        "# Open file for writing\n",
        "with open(\"numbers.txt\", \"w\") as file:\n",
        "    for num in numbers:\n",
        "        file.write(str(num) + \"\\n\")  # Convert number to string before writing\n",
        "\n",
        "print(\"Numbers written to numbers.txt successfully.\")\n"
      ],
      "metadata": {
        "id": "t_AaL58aOzrv"
      },
      "execution_count": null,
      "outputs": []
    },
    {
      "cell_type": "markdown",
      "source": [
        "**Q18-How would you implement a basic logging setup that logs to a file with rotation after 1MB.**"
      ],
      "metadata": {
        "id": "d-Cllx5UO04_"
      }
    },
    {
      "cell_type": "code",
      "source": [
        "import logging\n",
        "from logging.handlers import RotatingFileHandler\n",
        "\n",
        "# Create logger\n",
        "logger = logging.getLogger(\"my_logger\")\n",
        "logger.setLevel(logging.INFO)\n",
        "\n",
        "# Create rotating file handler (max 1 MB per file, keep 3 backups)\n",
        "handler = RotatingFileHandler(\n",
        "    \"app.log\",\n",
        "    maxBytes=1 * 1024 * 1024,  # 1 MB\n",
        "    backupCount=3              # Keep last 3 log files\n",
        ")\n",
        "\n",
        "# Create formatter and add to handler\n",
        "formatter = logging.Formatter('%(asctime)s - %(levelname)s - %(message)s')\n",
        "handler.setFormatter(formatter)\n",
        "\n",
        "# Add handler to logger\n",
        "logger.addHandler(handler)\n",
        "\n",
        "# Example logs\n",
        "for i in range(10000):\n",
        "    logger.info(f\"Log message number {i}\")\n"
      ],
      "metadata": {
        "id": "YZ_m5-rSO1RH"
      },
      "execution_count": null,
      "outputs": []
    },
    {
      "cell_type": "markdown",
      "source": [
        "**Q19-Write a program that handles both IndexError and KeyError using a try-except block.**"
      ],
      "metadata": {
        "id": "SrFDgX1LO1mR"
      }
    },
    {
      "cell_type": "code",
      "source": [
        "# Sample list and dictionary\n",
        "my_list = [1, 2, 3]\n",
        "my_dict = {\"a\": 10, \"b\": 20}\n",
        "\n",
        "try:\n",
        "    # Trigger IndexError\n",
        "    print(my_list[5])\n",
        "\n",
        "    # Trigger KeyError\n",
        "    print(my_dict[\"z\"])\n",
        "\n",
        "except IndexError:\n",
        "    print(\"IndexError: You tried to access a list index that does not exist.\")\n",
        "\n",
        "except KeyError:\n",
        "    print(\"KeyError: You tried to access a dictionary key that does not exist.\")"
      ],
      "metadata": {
        "id": "IMn_2f7SO1-Y"
      },
      "execution_count": null,
      "outputs": []
    },
    {
      "cell_type": "markdown",
      "source": [
        "**Q20-How would you open a file and read its contents using a context manager in Python.**"
      ],
      "metadata": {
        "id": "F0YqQGVtO2Vq"
      }
    },
    {
      "cell_type": "code",
      "source": [
        "# Open and read file using a context manager\n",
        "with open(\"example.txt\", \"r\") as file:\n",
        "    contents = file.read()\n",
        "    print(contents)\n"
      ],
      "metadata": {
        "id": "CGbJChXcOyK6"
      },
      "execution_count": null,
      "outputs": []
    },
    {
      "cell_type": "code",
      "source": [
        "with open(\"example.txt\", \"r\") as file:\n",
        "    for line in file:\n",
        "        print(line.strip())  # strip() removes extra newline\n"
      ],
      "metadata": {
        "id": "nhamiIc7PVxg"
      },
      "execution_count": null,
      "outputs": []
    },
    {
      "cell_type": "markdown",
      "source": [
        "**Q21-Write a Python program that reads a file and prints the number of occurrences of a specific word.**"
      ],
      "metadata": {
        "id": "f0NVm44OPZm6"
      }
    },
    {
      "cell_type": "code",
      "source": [
        "# Program to count occurrences of a specific word in a file\n",
        "\n",
        "# Define the file name and the word to search for\n",
        "filename = \"example.txt\"\n",
        "search_word = \"python\"\n",
        "\n",
        "try:\n",
        "    with open(filename, \"r\") as file:\n",
        "        content = file.read().lower()  # Convert to lowercase for case-insensitive match\n",
        "        word_count = content.split().count(search_word.lower())\n",
        "\n",
        "    print(f\"The word '{search_word}' occurs {word_count} times in '{filename}'.\")\n",
        "\n",
        "except FileNotFoundError:\n",
        "    print(f\"Error: The file '{filename}' does not exist.\")\n"
      ],
      "metadata": {
        "id": "9Bt9tzw6PbVN"
      },
      "execution_count": null,
      "outputs": []
    },
    {
      "cell_type": "markdown",
      "source": [
        "**Q22-How can you check if a file is empty before attempting to read its contents.**"
      ],
      "metadata": {
        "id": "LtUlb4UXPaPg"
      }
    },
    {
      "cell_type": "code",
      "source": [
        "import os\n",
        "\n",
        "filename = \"example.txt\"\n",
        "\n",
        "if os.path.getsize(filename) == 0:\n",
        "    print(\"The file is empty.\")\n",
        "else:\n",
        "    with open(filename, \"r\") as file:\n",
        "        print(file.read())\n"
      ],
      "metadata": {
        "id": "0Z5jI1h1PYcU"
      },
      "execution_count": null,
      "outputs": []
    },
    {
      "cell_type": "code",
      "source": [
        "filename = \"example.txt\"\n",
        "\n",
        "with open(filename, \"r\") as file:\n",
        "    first_char = file.read(1)  # Read first byte/character\n",
        "    if not first_char:\n",
        "        print(\"The file is empty.\")\n",
        "    else:\n",
        "        file.seek(0)  # Reset pointer to beginning\n",
        "        print(file.read())\n"
      ],
      "metadata": {
        "id": "iGqmsLFqPw4b"
      },
      "execution_count": null,
      "outputs": []
    },
    {
      "cell_type": "code",
      "source": [
        "import os\n",
        "\n",
        "filename = \"example.txt\"\n",
        "\n",
        "if os.stat(filename).st_size == 0:\n",
        "    print(\"The file is empty.\")\n",
        "else:\n",
        "    with open(filename, \"r\") as file:\n",
        "        print(file.read())\n"
      ],
      "metadata": {
        "id": "xD7oZKiMP1C1"
      },
      "execution_count": null,
      "outputs": []
    },
    {
      "cell_type": "markdown",
      "source": [
        "**Q23-Write a Python program that writes to a log file when an error occurs during file handling.**"
      ],
      "metadata": {
        "id": "HbbTmJ3IPecu"
      }
    },
    {
      "cell_type": "code",
      "source": [
        "import logging\n",
        "\n",
        "# Configure logging\n",
        "logging.basicConfig(\n",
        "    filename=\"file_errors.log\",          # Log file name\n",
        "    level=logging.ERROR,                 # Log only errors and above\n",
        "    format=\"%(asctime)s - %(levelname)s - %(message)s\"\n",
        ")\n",
        "\n",
        "filename = \"non_existing_file.txt\"\n",
        "\n",
        "try:\n",
        "    with open(filename, \"r\") as file:\n",
        "        content = file.read()\n",
        "        print(content)\n",
        "except FileNotFoundError as e:\n",
        "    logging.error(f\"File not found: {filename} - {e}\")\n",
        "    print(f\"Error: The file '{filename}' does not exist.\")\n",
        "except PermissionError as e:\n",
        "    logging.error(f\"Permission denied: {filename} - {e}\")\n",
        "    print(f\"Error: You don't have permission to read '{filename}'.\")\n",
        "except Exception as e:\n",
        "    logging.error(f\"Unexpected error with file '{filename}': {e}\")\n",
        "    print(\"An unexpected error occurred while handling the file.\")\n"
      ],
      "metadata": {
        "id": "z-rq7JykPfAj"
      },
      "execution_count": null,
      "outputs": []
    }
  ]
}